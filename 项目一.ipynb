{
 "cells": [
  {
   "cell_type": "code",
   "execution_count": 72,
   "id": "58c392e3-2c12-4a1e-89d5-9c532461d3d9",
   "metadata": {},
   "outputs": [
    {
     "name": "stderr",
     "output_type": "stream",
     "text": [
      "Downloading: \"https://github.com/pytorch/vision/zipball/v0.10.0\" to /home/featurize/.cache/torch/hub/v0.10.0.zip\n"
     ]
    }
   ],
   "source": [
    "#导入预训练模型\n",
    "import torch\n",
    "model = torch.hub.load('pytorch/vision:v0.10.0', 'resnet50', pretrained=True)\n",
    "torch.save(model.state_dict(), 'resnet50_cifar10.pth')"
   ]
  },
  {
   "cell_type": "code",
   "execution_count": 196,
   "id": "61712b48-c305-436f-910b-d6f507132bb8",
   "metadata": {},
   "outputs": [
    {
     "name": "stdout",
     "output_type": "stream",
     "text": [
      "Original Prediction: cat\n",
      "Adversarial Prediction: truck\n"
     ]
    }
   ],
   "source": [
    "import torch.nn as nn\n",
    "import torch.optim as optim\n",
    "from torchvision.models import resnet50\n",
    "from torchvision import transforms\n",
    "from PIL import Image\n",
    "import numpy as np\n",
    "\n",
    "# 加载预训练的 ResNet-50 模型\n",
    "class Net(nn.Module):\n",
    "    def __init__(self):\n",
    "        super(Net, self).__init__()\n",
    "        resnet_model = resnet50(pretrained=True)\n",
    "        self.features = nn.Sequential(*list(resnet_model.children())[:-1])\n",
    "        self.classifier = nn.Linear(2048, 10) \n",
    "\n",
    "    def forward(self, x):\n",
    "        x = self.features(x)\n",
    "        x = x.view(x.size(0), -1)\n",
    "        x = self.classifier(x)\n",
    "        return x\n",
    "\n",
    "# PGD 攻击\n",
    "def pgd_attack(model, images, labels, epsilon, alpha, num_iter):\n",
    "    images.requires_grad = True\n",
    "    for _ in range(num_iter):\n",
    "        outputs = model(images)\n",
    "        loss = nn.CrossEntropyLoss()(outputs, labels)\n",
    "        grad = torch.autograd.grad(loss, images)[0]\n",
    "        images = images + alpha * grad.sign()\n",
    "        images = torch.clamp(images, 0, 1)\n",
    "        images = torch.clamp(images, images - epsilon, images + epsilon)\n",
    "    return images.detach()\n",
    "\n",
    "# 载入模型\n",
    "model = Net()\n",
    "model.load_state_dict(torch.load('resnet50_cifar10.pth'), strict=False)\n",
    "model.eval()\n",
    "\n",
    "#载入图像\n",
    "image_path = 'cat.png'\n",
    "input_image = Image.open(image_path).convert(\"RGB\")\n",
    "transform = transforms.Compose([transforms.Resize((224, 224)),\n",
    "                                transforms.ToTensor()])\n",
    "input_tensor = transform(input_image).unsqueeze(0)  # 添加 batch 维度\n",
    "\n",
    "#初始化模型和优化器\n",
    "model.cuda()\n",
    "input_tensor = input_tensor.cuda()\n",
    "\n",
    "#对抗样本参数\n",
    "epsilon = 0.03\n",
    "alpha = 0.01\n",
    "num_iter = 10\n",
    "\n",
    "#生成对抗样本\n",
    "adversarial_image = pgd_attack(model, input_tensor, label, epsilon, alpha, num_iter)\n",
    "\n",
    "#在原始图像和对抗样本上进行预测\n",
    "output_original = model(input_tensor)\n",
    "output_adversarial = model(adversarial_image)\n",
    "\n",
    "_, predicted_original = torch.max(output_original.data, 1)\n",
    "_, predicted_adversarial = torch.max(output_adversarial.data, 1)\n",
    "\n",
    "class_labels = ['airplane', 'automobile', 'bird', 'cat', 'deer', 'dog', 'frog', 'horse', 'ship', 'truck']\n",
    "print(f\"Original Prediction: {class_labels[predicted_original.item()]}\")\n",
    "print(f\"Adversarial Prediction: {class_labels[predicted_adversarial.item()]}\")\n",
    "\n",
    "#保存生成的对抗样本\n",
    "array = adversarial_image.squeeze().cpu().numpy()\n",
    "array = (array * 255).astype(np.uint8)\n",
    "array = np.transpose(array, (1, 2, 0))\n",
    "image = Image.fromarray(array, mode='RGB')\n",
    "image.save('adv_cat.png')\n"
   ]
  },
  {
   "cell_type": "code",
   "execution_count": null,
   "id": "12f6a6d2-0052-482a-b4c3-8e94e378ba03",
   "metadata": {},
   "outputs": [],
   "source": []
  },
  {
   "cell_type": "code",
   "execution_count": null,
   "id": "39173ff0-fd0b-42f8-8347-ae73a345d97b",
   "metadata": {},
   "outputs": [],
   "source": []
  }
 ],
 "metadata": {
  "kernelspec": {
   "display_name": "Python 3 (ipykernel)",
   "language": "python",
   "name": "python3"
  },
  "language_info": {
   "codemirror_mode": {
    "name": "ipython",
    "version": 3
   },
   "file_extension": ".py",
   "mimetype": "text/x-python",
   "name": "python",
   "nbconvert_exporter": "python",
   "pygments_lexer": "ipython3",
   "version": "3.10.12"
  }
 },
 "nbformat": 4,
 "nbformat_minor": 5
}
